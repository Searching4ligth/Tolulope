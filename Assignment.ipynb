{
 "cells": [
  {
   "cell_type": "code",
   "execution_count": null,
   "id": "c1cc280c",
   "metadata": {},
   "outputs": [],
   "source": [
    "#Area of a Circle = Area = pi * r^2 "
   ]
  },
  {
   "cell_type": "code",
   "execution_count": 10,
   "id": "adfa07b3",
   "metadata": {},
   "outputs": [
    {
     "name": "stdout",
     "output_type": "stream",
     "text": [
      "Enter a radius: 10.1\n",
      "The area of a circle with radius is = 320.51541999999995\n"
     ]
    }
   ],
   "source": [
    "pi = 3.142\n",
    "radius = float(input(\"Enter a radius: \"))\n",
    "Area = pi * radius * radius \n",
    "print(\"The area of a circle with radius is = \" + str(Area))"
   ]
  },
  {
   "cell_type": "code",
   "execution_count": null,
   "id": "9000c5d0",
   "metadata": {},
   "outputs": [],
   "source": [
    "radius = float(input(\"Enter radius:\"))\n",
    "pi = 3.14\n",
    "Area = pi * radius * radius\n",
    "print(\"Area = \" + str(Area))"
   ]
  },
  {
   "cell_type": "code",
   "execution_count": null,
   "id": "24378cfe",
   "metadata": {},
   "outputs": [],
   "source": []
  },
  {
   "cell_type": "code",
   "execution_count": null,
   "id": "cf693c06",
   "metadata": {},
   "outputs": [],
   "source": [
    "#Area of a Rectangle = A =WL"
   ]
  },
  {
   "cell_type": "code",
   "execution_count": 11,
   "id": "31f1340b",
   "metadata": {},
   "outputs": [
    {
     "name": "stdout",
     "output_type": "stream",
     "text": [
      "Enter the length of the rectangle: 20\n",
      "Enter the width of the rectangle: 15\n",
      "The area of a the rectangle is = 300\n"
     ]
    }
   ],
   "source": [
    "length = int(input(\"Enter the length of the rectangle: \"))\n",
    "width = int(input(\"Enter the width of the rectangle: \"))\n",
    "Area = length*width\n",
    "print(\"The area of the rectangle is = \" + str(Area))"
   ]
  },
  {
   "cell_type": "code",
   "execution_count": null,
   "id": "13f63599",
   "metadata": {},
   "outputs": [],
   "source": []
  },
  {
   "cell_type": "code",
   "execution_count": null,
   "id": "f77a4a4d",
   "metadata": {},
   "outputs": [],
   "source": [
    "#Area of a Square = A=a*2"
   ]
  },
  {
   "cell_type": "code",
   "execution_count": 13,
   "id": "19a87db1",
   "metadata": {},
   "outputs": [
    {
     "name": "stdout",
     "output_type": "stream",
     "text": [
      "Enter the length of the square: 20\n",
      "The area of the square is = 400\n"
     ]
    }
   ],
   "source": [
    "length = int(input(\"Enter the length of the square: \"))\n",
    "Area = length*length \n",
    "print(\"The area of the square is = \" + str(Area))"
   ]
  },
  {
   "cell_type": "code",
   "execution_count": 18,
   "id": "c4bf32cb",
   "metadata": {},
   "outputs": [
    {
     "name": "stdout",
     "output_type": "stream",
     "text": [
      "Enter a shape: triangle\n",
      "The shape you entered is not correct monseiur\n"
     ]
    }
   ],
   "source": [
    "Shape_name = input(\"Enter a shape: \")\n",
    "if Shape_name == \"square\":\n",
    "    length = int(input(\"Enter the square's side length: \"))\n",
    "    square_area = length*length \n",
    "    print(\"The area of the square is = \" + str(square_area))\n",
    "    \n",
    "elif Shape_name == \"rectangle\":\n",
    "    l = int(input(\"Enter the length of the rectangle: \"))\n",
    "    W = int(input(\"Enter the width of the rectangle: \"))\n",
    "    #L is used as Length and W as Width of the rectangle\n",
    "    rectangle_area = l*W\n",
    "    print(\"The area of the rectangle is = \" + str(rectangle_area))\n",
    "\n",
    "elif Shape_name == \"circle\":\n",
    "    radius = float(input(\"Enter the radius of the circle: \"))\n",
    "    pi = 3.142\n",
    "    circle_area = pi *radius *radius\n",
    "    print(\"The area of the circle is =\" + str(circle_area))\n",
    "\n",
    "else:\n",
    "    print(\"The shape you entered is not correct monseiur\")\n",
    "    "
   ]
  },
  {
   "cell_type": "code",
   "execution_count": null,
   "id": "c93f9e61",
   "metadata": {},
   "outputs": [],
   "source": []
  },
  {
   "cell_type": "code",
   "execution_count": null,
   "id": "851d2289",
   "metadata": {},
   "outputs": [],
   "source": []
  },
  {
   "cell_type": "code",
   "execution_count": null,
   "id": "ebd07e14",
   "metadata": {},
   "outputs": [],
   "source": []
  }
 ],
 "metadata": {
  "kernelspec": {
   "display_name": "Python 3",
   "language": "python",
   "name": "python3"
  },
  "language_info": {
   "codemirror_mode": {
    "name": "ipython",
    "version": 3
   },
   "file_extension": ".py",
   "mimetype": "text/x-python",
   "name": "python",
   "nbconvert_exporter": "python",
   "pygments_lexer": "ipython3",
   "version": "3.8.8"
  }
 },
 "nbformat": 4,
 "nbformat_minor": 5
}
